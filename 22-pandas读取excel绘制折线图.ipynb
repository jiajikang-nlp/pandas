{
 "cells": [
  {
   "cell_type": "code",
   "execution_count": 1,
   "metadata": {},
   "outputs": [],
   "source": [
    "\"\"\"\n",
    " author:jjk\n",
    " datetime:2020/02/16\n",
    " coding:utf-8\n",
    " project name:test/pandas\n",
    " Program function: \n",
    "\n",
    "\"\"\"\n",
    "import pandas as pd\n",
    "import numpy as np\n",
    "#%matplotlib inline"
   ]
  },
  {
   "cell_type": "code",
   "execution_count": 2,
   "metadata": {},
   "outputs": [
    {
     "data": {
      "text/plain": [
       "'\\nPandasPyecharts怎样结合绘制交互性折线图？\\n背景：\\n   PandasPython是用于数据分析领域的超级牛的库\\n   Echarts是百度开源的非常好用强大的可视化图表库， PyechartsPython是它的库版本\\n\\n'"
      ]
     },
     "execution_count": 2,
     "metadata": {},
     "output_type": "execute_result"
    }
   ],
   "source": [
    "\"\"\"\n",
    "PandasPyecharts怎样结合绘制交互性折线图？\n",
    "背景：\n",
    "   PandasPython是用于数据分析领域的超级牛的库\n",
    "   Echarts是百度开源的非常好用强大的可视化图表库， PyechartsPython是它的库版本\n",
    "\n",
    "\"\"\""
   ]
  },
  {
   "cell_type": "code",
   "execution_count": 3,
   "metadata": {},
   "outputs": [
    {
     "data": {
      "text/html": [
       "<div>\n",
       "<style scoped>\n",
       "    .dataframe tbody tr th:only-of-type {\n",
       "        vertical-align: middle;\n",
       "    }\n",
       "\n",
       "    .dataframe tbody tr th {\n",
       "        vertical-align: top;\n",
       "    }\n",
       "\n",
       "    .dataframe thead th {\n",
       "        text-align: right;\n",
       "    }\n",
       "</style>\n",
       "<table border=\"1\" class=\"dataframe\">\n",
       "  <thead>\n",
       "    <tr style=\"text-align: right;\">\n",
       "      <th></th>\n",
       "      <th>code</th>\n",
       "      <th>open</th>\n",
       "      <th>close</th>\n",
       "      <th>high</th>\n",
       "      <th>low</th>\n",
       "      <th>vol</th>\n",
       "      <th>p_change</th>\n",
       "    </tr>\n",
       "    <tr>\n",
       "      <th>datetime</th>\n",
       "      <th></th>\n",
       "      <th></th>\n",
       "      <th></th>\n",
       "      <th></th>\n",
       "      <th></th>\n",
       "      <th></th>\n",
       "      <th></th>\n",
       "    </tr>\n",
       "  </thead>\n",
       "  <tbody>\n",
       "    <tr>\n",
       "      <th>2019-12-03</th>\n",
       "      <td>BIDU</td>\n",
       "      <td>115.199997</td>\n",
       "      <td>114.800003</td>\n",
       "      <td>116.019997</td>\n",
       "      <td>113.300003</td>\n",
       "      <td>3493249</td>\n",
       "      <td>-2.25</td>\n",
       "    </tr>\n",
       "    <tr>\n",
       "      <th>2019-12-02</th>\n",
       "      <td>BIDU</td>\n",
       "      <td>118.389999</td>\n",
       "      <td>117.440002</td>\n",
       "      <td>119.764999</td>\n",
       "      <td>116.400002</td>\n",
       "      <td>2203313</td>\n",
       "      <td>-0.92</td>\n",
       "    </tr>\n",
       "    <tr>\n",
       "      <th>2019-11-29</th>\n",
       "      <td>BIDU</td>\n",
       "      <td>118.300003</td>\n",
       "      <td>118.529999</td>\n",
       "      <td>118.690002</td>\n",
       "      <td>117.599998</td>\n",
       "      <td>1917004</td>\n",
       "      <td>-0.82</td>\n",
       "    </tr>\n",
       "    <tr>\n",
       "      <th>2019-11-27</th>\n",
       "      <td>BIDU</td>\n",
       "      <td>119.180000</td>\n",
       "      <td>119.510002</td>\n",
       "      <td>119.839996</td>\n",
       "      <td>118.440002</td>\n",
       "      <td>2341070</td>\n",
       "      <td>0.77</td>\n",
       "    </tr>\n",
       "    <tr>\n",
       "      <th>2019-11-26</th>\n",
       "      <td>BIDU</td>\n",
       "      <td>120.010002</td>\n",
       "      <td>118.599998</td>\n",
       "      <td>120.440002</td>\n",
       "      <td>118.099998</td>\n",
       "      <td>3813176</td>\n",
       "      <td>-1.43</td>\n",
       "    </tr>\n",
       "  </tbody>\n",
       "</table>\n",
       "</div>"
      ],
      "text/plain": [
       "            code        open       close        high         low      vol  \\\n",
       "datetime                                                                    \n",
       "2019-12-03  BIDU  115.199997  114.800003  116.019997  113.300003  3493249   \n",
       "2019-12-02  BIDU  118.389999  117.440002  119.764999  116.400002  2203313   \n",
       "2019-11-29  BIDU  118.300003  118.529999  118.690002  117.599998  1917004   \n",
       "2019-11-27  BIDU  119.180000  119.510002  119.839996  118.440002  2341070   \n",
       "2019-11-26  BIDU  120.010002  118.599998  120.440002  118.099998  3813176   \n",
       "\n",
       "            p_change  \n",
       "datetime              \n",
       "2019-12-03     -2.25  \n",
       "2019-12-02     -0.92  \n",
       "2019-11-29     -0.82  \n",
       "2019-11-27      0.77  \n",
       "2019-11-26     -1.43  "
      ]
     },
     "execution_count": 3,
     "metadata": {},
     "output_type": "execute_result"
    }
   ],
   "source": [
    "xlsx_path = './datas/stocks/baidu_stocks.xlsx'\n",
    "df = pd.read_excel(xlsx_path,index_col='datetime',parse_dates=True)\n",
    "df.head()"
   ]
  },
  {
   "cell_type": "code",
   "execution_count": 4,
   "metadata": {},
   "outputs": [
    {
     "data": {
      "text/plain": [
       "DatetimeIndex(['2019-12-03', '2019-12-02', '2019-11-29', '2019-11-27',\n",
       "               '2019-11-26', '2019-11-25', '2019-11-22', '2019-11-21',\n",
       "               '2019-11-20', '2019-11-19',\n",
       "               ...\n",
       "               '2019-01-15', '2019-01-14', '2019-01-11', '2019-01-10',\n",
       "               '2019-01-09', '2019-01-08', '2019-01-07', '2019-01-04',\n",
       "               '2019-01-03', '2019-01-02'],\n",
       "              dtype='datetime64[ns]', name='datetime', length=227, freq=None)"
      ]
     },
     "execution_count": 4,
     "metadata": {},
     "output_type": "execute_result"
    }
   ],
   "source": [
    "df.index # 索引"
   ]
  },
  {
   "cell_type": "code",
   "execution_count": 5,
   "metadata": {},
   "outputs": [
    {
     "data": {
      "text/html": [
       "<div>\n",
       "<style scoped>\n",
       "    .dataframe tbody tr th:only-of-type {\n",
       "        vertical-align: middle;\n",
       "    }\n",
       "\n",
       "    .dataframe tbody tr th {\n",
       "        vertical-align: top;\n",
       "    }\n",
       "\n",
       "    .dataframe thead th {\n",
       "        text-align: right;\n",
       "    }\n",
       "</style>\n",
       "<table border=\"1\" class=\"dataframe\">\n",
       "  <thead>\n",
       "    <tr style=\"text-align: right;\">\n",
       "      <th></th>\n",
       "      <th>code</th>\n",
       "      <th>open</th>\n",
       "      <th>close</th>\n",
       "      <th>high</th>\n",
       "      <th>low</th>\n",
       "      <th>vol</th>\n",
       "      <th>p_change</th>\n",
       "    </tr>\n",
       "    <tr>\n",
       "      <th>datetime</th>\n",
       "      <th></th>\n",
       "      <th></th>\n",
       "      <th></th>\n",
       "      <th></th>\n",
       "      <th></th>\n",
       "      <th></th>\n",
       "      <th></th>\n",
       "    </tr>\n",
       "  </thead>\n",
       "  <tbody>\n",
       "    <tr>\n",
       "      <th>2019-01-02</th>\n",
       "      <td>BIDU</td>\n",
       "      <td>156.179993</td>\n",
       "      <td>162.250000</td>\n",
       "      <td>164.330002</td>\n",
       "      <td>155.490005</td>\n",
       "      <td>2996952</td>\n",
       "      <td>NaN</td>\n",
       "    </tr>\n",
       "    <tr>\n",
       "      <th>2019-01-03</th>\n",
       "      <td>BIDU</td>\n",
       "      <td>158.750000</td>\n",
       "      <td>154.710007</td>\n",
       "      <td>159.880005</td>\n",
       "      <td>153.779999</td>\n",
       "      <td>3879180</td>\n",
       "      <td>-4.65</td>\n",
       "    </tr>\n",
       "    <tr>\n",
       "      <th>2019-01-04</th>\n",
       "      <td>BIDU</td>\n",
       "      <td>157.600006</td>\n",
       "      <td>160.949997</td>\n",
       "      <td>162.429993</td>\n",
       "      <td>157.250000</td>\n",
       "      <td>3847497</td>\n",
       "      <td>4.03</td>\n",
       "    </tr>\n",
       "    <tr>\n",
       "      <th>2019-01-07</th>\n",
       "      <td>BIDU</td>\n",
       "      <td>162.600006</td>\n",
       "      <td>162.600006</td>\n",
       "      <td>164.490005</td>\n",
       "      <td>158.509995</td>\n",
       "      <td>3266091</td>\n",
       "      <td>1.03</td>\n",
       "    </tr>\n",
       "    <tr>\n",
       "      <th>2019-01-08</th>\n",
       "      <td>BIDU</td>\n",
       "      <td>162.190002</td>\n",
       "      <td>163.399994</td>\n",
       "      <td>163.889999</td>\n",
       "      <td>158.160004</td>\n",
       "      <td>3253361</td>\n",
       "      <td>0.49</td>\n",
       "    </tr>\n",
       "  </tbody>\n",
       "</table>\n",
       "</div>"
      ],
      "text/plain": [
       "            code        open       close        high         low      vol  \\\n",
       "datetime                                                                    \n",
       "2019-01-02  BIDU  156.179993  162.250000  164.330002  155.490005  2996952   \n",
       "2019-01-03  BIDU  158.750000  154.710007  159.880005  153.779999  3879180   \n",
       "2019-01-04  BIDU  157.600006  160.949997  162.429993  157.250000  3847497   \n",
       "2019-01-07  BIDU  162.600006  162.600006  164.490005  158.509995  3266091   \n",
       "2019-01-08  BIDU  162.190002  163.399994  163.889999  158.160004  3253361   \n",
       "\n",
       "            p_change  \n",
       "datetime              \n",
       "2019-01-02       NaN  \n",
       "2019-01-03     -4.65  \n",
       "2019-01-04      4.03  \n",
       "2019-01-07      1.03  \n",
       "2019-01-08      0.49  "
      ]
     },
     "execution_count": 5,
     "metadata": {},
     "output_type": "execute_result"
    }
   ],
   "source": [
    "df.sort_index(inplace=True) # 索引排序，inplace=True表示修改这个索引\n",
    "df.head()"
   ]
  },
  {
   "cell_type": "code",
   "execution_count": 12,
   "metadata": {},
   "outputs": [],
   "source": [
    "# 2、使用pyecharts绘制折线图\n",
    "from pyecharts.charts import Line\n",
    "from pyecharts import options as opts\n",
    "import matplotlib.pyplot as plt\n",
    "%matplotlib inline"
   ]
  },
  {
   "cell_type": "code",
   "execution_count": 13,
   "metadata": {},
   "outputs": [
    {
     "data": {
      "text/plain": [
       "<pyecharts.charts.basic_charts.line.Line at 0x1ea58105d30>"
      ]
     },
     "execution_count": 13,
     "metadata": {},
     "output_type": "execute_result"
    }
   ],
   "source": [
    "# 折线图\n",
    "line = Line() # 折线图对象\n",
    "\n",
    "# x轴\n",
    "line.add_xaxis(df.index.to_list()) # x轴数据：列表——日期\n",
    "\n",
    "# 每个y轴\n",
    "line.add_yaxis(\"开盘价\",df['open'].round(2).to_list())\n",
    "line.add_yaxis(\"收盘价\",df['close'].round(2).to_list())\n",
    "\n",
    "# 图标配置\n",
    "line.set_global_opts(\n",
    "    title_opts=opts.TitleOpts(title='百度股票2019年'), \n",
    "    tooltip_opts=opts.TooltipOpts(trigger='axix',axis_pointer_type='cross'))"
   ]
  },
  {
   "cell_type": "code",
   "execution_count": 15,
   "metadata": {},
   "outputs": [
    {
     "data": {
      "text/plain": [
       "'F:\\\\Pycharm\\\\Pycharm_workstation\\\\test\\\\pandas\\\\render.html'"
      ]
     },
     "execution_count": 15,
     "metadata": {},
     "output_type": "execute_result"
    }
   ],
   "source": [
    "# 渲染数据\n",
    "line.render_notebook()\n",
    "line.render()"
   ]
  },
  {
   "cell_type": "code",
   "execution_count": null,
   "metadata": {},
   "outputs": [],
   "source": [
    " "
   ]
  },
  {
   "cell_type": "code",
   "execution_count": null,
   "metadata": {},
   "outputs": [],
   "source": []
  }
 ],
 "metadata": {
  "kernelspec": {
   "display_name": "Python 3",
   "language": "python",
   "name": "python3"
  },
  "language_info": {
   "codemirror_mode": {
    "name": "ipython",
    "version": 3
   },
   "file_extension": ".py",
   "mimetype": "text/x-python",
   "name": "python",
   "nbconvert_exporter": "python",
   "pygments_lexer": "ipython3",
   "version": "3.6.9"
  }
 },
 "nbformat": 4,
 "nbformat_minor": 2
}
